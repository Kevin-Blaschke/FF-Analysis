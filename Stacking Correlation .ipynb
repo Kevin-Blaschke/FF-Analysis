{
 "cells": [
  {
   "cell_type": "code",
   "execution_count": 31,
   "metadata": {},
   "outputs": [],
   "source": [
    "import pandas as pd\n",
    "import numpy as np\n",
    "import seaborn as sns\n",
    "from matplotlib import pyplot as plt"
   ]
  },
  {
   "cell_type": "code",
   "execution_count": 32,
   "metadata": {},
   "outputs": [],
   "source": [
    "#import csv\n",
    "df = pd.read_csv('2019.csv')\n",
    "\n",
    "#drop 'unneccessary' columns\n",
    "\n",
    "df.drop(['Rk', '2PM', '2PP', 'FantPt', 'DKPt', 'FDPt',\n",
    "         'VBD', 'PosRank', 'OvRank', 'PPR', 'Fmb',\n",
    "         'GS', 'Age', 'Tgt', 'Y/A', 'Att', 'Att.1', 'Cmp', 'Y/R'], axis=1, inplace=True)\n",
    "\n",
    "#Fix name formatting\n",
    "df['Player'] = df['Player'].apply(lambda x: x.split('*')[0]).apply(lambda x: x.split('\\\\')[0])\n",
    "\n",
    "#Rename Columns\n",
    "df.rename({\n",
    "    'TD': 'PassingTD',\n",
    "    'TD.1' : 'RushingTD',\n",
    "    'TD.2' : 'ReceivingTD',\n",
    "    'TD.3' : 'TotalTD',\n",
    "    'Yds'  : 'PassingYDs',\n",
    "    'Yds.1' : 'RushingYDs',\n",
    "    'Yds.2' : 'ReceivingYDs',\n",
    "}, axis=1, inplace=True)\n",
    "\n",
    "#Make sure to put paranthesis if you break lines\n",
    "df['FantasyPoints'] = (df['PassingYDs']*0.04 + df['PassingTD']*4 - df['Int']*2 + df['RushingYDs']*0.1\n",
    "                      + df['RushingTD']*6 + df['Rec']*1 + df['ReceivingYDs']*0.1 + df['ReceivingTD']*6 - df['FL']*2)\n",
    "\n",
    "df['FantasyPoints/GM'] = df['FantasyPoints']/df['G']\n",
    "\n",
    "df = df[['Tm', 'FantPos', 'FantasyPoints', 'FantasyPoints/GM']]\n",
    "\n",
    "df = df[df['Tm'] != '2TM']\n",
    "df = df[df['Tm'] != '3TM']\n",
    "\n",
    "#seperate dataframes based off position\n",
    "\n",
    "#seperate df based on position\n",
    "rb_df = df[df['FantPos'] == 'RB']\n",
    "qb_df = df[df['FantPos'] == 'QB']\n",
    "wr_df = df[df['FantPos'] == 'WR']\n",
    "te_df = df[df['FantPos'] == 'TE']\n"
   ]
  },
  {
   "cell_type": "code",
   "execution_count": 33,
   "metadata": {},
   "outputs": [],
   "source": [
    "def get_top_n_players(df, n):\n",
    "    return df.groupby('Tm').apply(lambda x: x.nlargest(n,\n",
    "        ['FantasyPoints']).min()).reset_index(drop=True)"
   ]
  },
  {
   "cell_type": "code",
   "execution_count": 34,
   "metadata": {},
   "outputs": [],
   "source": [
    "qb_df = get_top_n_players(qb_df, 1)\n",
    "rb1_df = get_top_n_players(rb_df, 1)\n",
    "rb2_df = get_top_n_players(rb_df, 2)\n",
    "wr1_df = get_top_n_players(wr_df, 1)\n",
    "wr2_df = get_top_n_players(wr_df, 2)\n",
    "wr3_df = get_top_n_players(wr_df, 3)\n",
    "te_df = get_top_n_players(te_df, 1)"
   ]
  },
  {
   "cell_type": "code",
   "execution_count": 35,
   "metadata": {},
   "outputs": [],
   "source": [
    "new_names = {\n",
    "    'QB1':qb_df,\n",
    "    'RB1':rb1_df,\n",
    "    'RB2':rb2_df,\n",
    "    'WR1':wr1_df,\n",
    "    'WR2':wr2_df,\n",
    "    'WR3':wr3_df,\n",
    "    'TE1':te_df\n",
    "}"
   ]
  },
  {
   "cell_type": "code",
   "execution_count": 36,
   "metadata": {},
   "outputs": [],
   "source": [
    "for name, new_df in new_names.items():\n",
    "    new_df.rename({'FantasyPoints/GM': name}, axis=1, inplace=True)\n",
    "    new_df.drop(['FantPos', 'FantasyPoints'], axis=1, inplace=True)\n",
    "    new_df.set_index('Tm', inplace=True)\n",
    "    \n",
    "df = pd.concat([qb_df, te_df, rb1_df, rb2_df, wr1_df, wr2_df, wr3_df], axis=1)"
   ]
  },
  {
   "cell_type": "code",
   "execution_count": 37,
   "metadata": {},
   "outputs": [
    {
     "data": {
      "image/png": "[encoded data removed]",
      "text/plain": [
       "<Figure size 1080x720 with 2 Axes>"
      ]
     },
     "metadata": {
      "needs_background": "light"
     },
     "output_type": "display_data"
    }
   ],
   "source": [
    "corrMatrix = df.corr()\n",
    "fig, ax = plt.subplots()\n",
    "fig.set_size_inches(15,10)\n",
    "\n",
    "cmap = sns.diverging_palette(0, 250, as_cmap=True)\n",
    "vizCorrMatrix = sns.heatmap(corrMatrix,cmap=cmap, center=0)"
   ]
  },
  {
   "cell_type": "code",
   "execution_count": null,
   "metadata": {},
   "outputs": [],
   "source": []
  }
 ],
 "metadata": {
  "kernelspec": {
   "display_name": "Python 3",
   "language": "python",
   "name": "python3"
  },
  "language_info": {
   "codemirror_mode": {
    "name": "ipython",
    "version": 3
   },
   "file_extension": ".py",
   "mimetype": "text/x-python",
   "name": "python",
   "nbconvert_exporter": "python",
   "pygments_lexer": "ipython3",
   "version": "3.7.3"
  }
 },
 "nbformat": 4,
 "nbformat_minor": 2
}
